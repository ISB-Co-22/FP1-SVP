{
 "cells": [
  {
   "cell_type": "code",
   "execution_count": 434,
   "id": "965fcb64",
   "metadata": {},
   "outputs": [],
   "source": [
    "import pandas as pd\n",
    "import requests as httpRequest\n",
    "from bs4 import BeautifulSoup\n",
    "from vaderSentiment.vaderSentiment import SentimentIntensityAnalyzer\n",
    "from datetime import date"
   ]
  },
  {
   "cell_type": "code",
   "execution_count": 4,
   "id": "313b09b1",
   "metadata": {},
   "outputs": [],
   "source": [
    "Investing_BaseUrl = \"https://in.investing.com/\""
   ]
  },
  {
   "cell_type": "code",
   "execution_count": 539,
   "id": "e0afded9",
   "metadata": {},
   "outputs": [],
   "source": [
    "# Get the html content for the Investing.com Nifty 50 Stock List URL to extract the metadata for each stock\n",
    "\n",
    "Investing_StockList = httpRequest.get(\"https://in.investing.com/indices/s-p-cnx-nifty-components\").content\n",
    "sel_Investing = Selector(text = Investing_StockList)"
   ]
  },
  {
   "cell_type": "code",
   "execution_count": 540,
   "id": "bb2f2fed",
   "metadata": {},
   "outputs": [],
   "source": [
    "header = {\n",
    "        'User-Agent':\n",
    "            \"Mozilla/5.0 (Windows NT 10.0; Win64; x64) AppleWebKit/537.36 (KHTML, like Gecko) Chrome/70.0.3538.102 Safari/537.36 Edge/18.19582\"\n",
    "}"
   ]
  },
  {
   "cell_type": "code",
   "execution_count": 541,
   "id": "dd9f5fd4",
   "metadata": {},
   "outputs": [],
   "source": [
    "Investing_StockList = httpRequest.get(\"https://in.investing.com/indices/s-p-cnx-nifty-components\",headers=header)"
   ]
  },
  {
   "cell_type": "code",
   "execution_count": 542,
   "id": "45e95797",
   "metadata": {},
   "outputs": [],
   "source": [
    "soup = BeautifulSoup(Investing_StockList.text, 'html.parser')"
   ]
  },
  {
   "cell_type": "code",
   "execution_count": 552,
   "id": "a7d8804d",
   "metadata": {},
   "outputs": [
    {
     "data": {
      "text/plain": [
       "['AXIS Bank',\n",
       " 'Adani Ports & SEZ',\n",
       " 'Apollo Hospitals',\n",
       " 'Asian Paints',\n",
       " 'Bajaj Auto',\n",
       " 'Bajaj Finance',\n",
       " 'Bajaj Finserv',\n",
       " 'Bharat Petroleum',\n",
       " 'Bharti Airtel',\n",
       " 'Britannia Industries',\n",
       " 'Cipla',\n",
       " 'Coal India',\n",
       " 'Divi',\n",
       " 'Dr. Reddy’s Labs',\n",
       " 'Eicher Motors',\n",
       " 'Grasim Industries',\n",
       " 'HCL Tech',\n",
       " 'HDFC Bank',\n",
       " 'HDFC Life',\n",
       " 'Hero MotoCorp',\n",
       " 'Hindalco Industries',\n",
       " 'Hindustan Unilever',\n",
       " 'Housing Development Finance',\n",
       " 'ICICI Bank',\n",
       " 'ITC',\n",
       " 'IndusInd Bank',\n",
       " 'Infosys',\n",
       " 'JSW Steel',\n",
       " 'Kotak Mahindra Bank',\n",
       " 'Larsen & Toubro',\n",
       " 'Mahindra & Mahindra',\n",
       " 'Maruti Suzuki',\n",
       " 'NTPC',\n",
       " 'Nestle India',\n",
       " 'Oil & Natural Gas',\n",
       " 'Power Grid',\n",
       " 'Reliance Industries',\n",
       " 'SBI',\n",
       " 'SBI Life Insurance',\n",
       " 'Shree Cements',\n",
       " 'Sun Pharma',\n",
       " 'Tata Consultancy',\n",
       " 'Tata Consumer Products',\n",
       " 'Tata Motors',\n",
       " 'Tata Steel Ltd',\n",
       " 'Tech Mahindra',\n",
       " 'Titan Company',\n",
       " 'UPL',\n",
       " 'UltraTech Cement',\n",
       " 'Wipro']"
      ]
     },
     "execution_count": 552,
     "metadata": {},
     "output_type": "execute_result"
    }
   ],
   "source": [
    "count = 0\n",
    "InvestingstockSeedList_Names = []\n",
    "InvestingstockSeedList_Links = []\n",
    "\n",
    "for news_list in soup.findAll('a',{'class':'js-instrument-page-link'}):\n",
    "    if(count >= 50):\n",
    "        continue\n",
    "    count = count + 1\n",
    "    InvestingstockSeedList_Names.append(news_list.get('title'))\n",
    "    InvestingstockSeedList_Links.append(news_list.get('href'))\n",
    "InvestingstockSeedList_Names"
   ]
  },
  {
   "cell_type": "code",
   "execution_count": null,
   "id": "f97f85f1",
   "metadata": {},
   "outputs": [],
   "source": [
    "#InvestingstockSeedList_Names = []\n",
    "#InvestingstockSeedList_Links = []\n",
    "#for tbody in soup.findAll('tbody'):\n",
    " #   for tr in tbody.findAll('tr',{'class':'common-table-item u-clickable'}):\n",
    "       # for news_list in tr.find('a',{'class':'js-instrument-page-link'}):\n",
    "        #    print(news_list.title)\n",
    "  #      InvestingstockSeedList_Names.append(tr.a.get('title'))\n",
    "   #     InvestingstockSeedList_Links.append(tr.a.get('href'))\n",
    "#InvestingstockSeedList_Names"
   ]
  },
  {
   "cell_type": "code",
   "execution_count": 826,
   "id": "1b73ea76",
   "metadata": {},
   "outputs": [],
   "source": [
    "Stock_Code = ['AXISBANK' ,'ADANIPORTS','APOLLOHOSP','ASIANPAINT','BAJAJ-AUTO','BAJFINANCE','BAJAJFINSV','BPCL','BHARTIARTL',\n",
    "              'BRITANNIA','CIPLA','COALINDIA','DIVISLAB','DRREDDY','EICHERMOT','GRASIM','HCLTECH','HDFCBANK','HDFCLIFE',\n",
    "              'HEROMOTOCO','HINDALCO','HINDUNILVR',' HDFC ','ICICIBANK','ITC','INDUSINDBK','INFY','JSWSTEEL','KOTAKBANK',\n",
    "              'LT','M&M','MARUTI','NTPC','NESTLEIND','ONGC','POWERGRID','RELIANCE','SBIN','SBILIFE','SHREECEM','SUNPHARMA',\n",
    "              'TCS','TATACONSUM','TATAMOTORS','TATASTEEL','TECHM','TITAN','UPL','ULTRACEMCO','WIPRO']"
   ]
  },
  {
   "cell_type": "code",
   "execution_count": 827,
   "id": "03718785",
   "metadata": {},
   "outputs": [],
   "source": [
    "StockMetadata = pd.DataFrame({\"Stock_FullName\": InvestingstockSeedList_Names,\"Stock_Code\": Stock_Code})"
   ]
  },
  {
   "cell_type": "code",
   "execution_count": 828,
   "id": "fdccbc81",
   "metadata": {},
   "outputs": [],
   "source": [
    "# Create a dataframe with columns to capture all the Stock Metadata\n",
    "df_InvestingStockListMetadata = pd.DataFrame({\"Stock_FullName\": [],\"InvestingUrl\": [] ,\"Stock_Code\": []})"
   ]
  },
  {
   "cell_type": "code",
   "execution_count": 829,
   "id": "10e89c1b",
   "metadata": {},
   "outputs": [],
   "source": [
    "for (stockName, stockLink) in zip(InvestingstockSeedList_Names, InvestingstockSeedList_Links):\n",
    "    df_InvestingStockListMetadata = df_InvestingStockListMetadata.append({\n",
    "        'Stock_FullName' : str(stockName),\n",
    "        'InvestingUrl'   : str(stockLink)\n",
    "        },  ignore_index = True)"
   ]
  },
  {
   "cell_type": "code",
   "execution_count": 830,
   "id": "8c9fdacc",
   "metadata": {},
   "outputs": [],
   "source": [
    "df_InvestingStockListMetadata = pd.merge(df_InvestingStockListMetadata,StockMetadata[['Stock_FullName','Stock_Code']],on='Stock_FullName',how='left')\n",
    "df_InvestingStockListMetadata = df_InvestingStockListMetadata.drop('Stock_Code_x',axis=1)\n",
    "df_InvestingStockListMetadata.rename(columns = {'Stock_Code_y':'Stock_Code'}, inplace = True)\n",
    "df_InvestingStockListMetadata.loc[13,'Stock_Code'] = \"DRREDDY\"\n",
    "for ind in df_InvestingStockListMetadata.index:\n",
    "    df_InvestingStockListMetadata.loc[ind,'Stock_Code'] = df_InvestingStockListMetadata.loc[ind,'Stock_Code'].strip()"
   ]
  },
  {
   "cell_type": "code",
   "execution_count": 831,
   "id": "4c6655cc",
   "metadata": {},
   "outputs": [],
   "source": [
    "#Get the Nifty 50 stocks meta data and the stock news url\n",
    "df_InvestingStockListMetadata[\"InvestingStockNews\"] = \"\"\n",
    "for eachStockIndex in df_InvestingStockListMetadata.index :\n",
    "    df_InvestingStockListMetadata[\"InvestingStockNews\"] = Investing_BaseUrl + df_InvestingStockListMetadata['InvestingUrl'] + \"-news\"\n",
    "df_InvestingStockListMetadata.to_csv(\"C:/Users/Rupali/ISB/Foundational Project 1/InvestingStockListdata.csv\")"
   ]
  },
  {
   "cell_type": "code",
   "execution_count": 812,
   "id": "cc3f933d",
   "metadata": {},
   "outputs": [],
   "source": [
    "# Create a dataframe with columns to capture all the Stock News with the dates\n",
    "df_InvestingDateWiseStockNews = pd.DataFrame({\"Stock_FullName\": [], \"Stock_Code\": [], \"Stock_News\" : [],\"Date\" : []})"
   ]
  },
  {
   "cell_type": "code",
   "execution_count": 813,
   "id": "1b2b2e9a",
   "metadata": {},
   "outputs": [],
   "source": [
    "#Iterating over all the Nifty 50 stocks to get all the news for an individual stock based on the dates\n",
    "\n",
    "row = 0\n",
    "for stockIndex in df_InvestingStockListMetadata.index :\n",
    "    stocknews_url = df_InvestingStockListMetadata.loc[stockIndex,\"InvestingStockNews\"]\n",
    "    page = httpRequest.get(stocknews_url,headers=header)\n",
    "    soup = BeautifulSoup(page.text, 'html.parser')\n",
    "    for j in soup.select('div.content'):\n",
    "        h3 = j.find('h3')\n",
    "        df_InvestingDateWiseStockNews.loc[row,'Stock_FullName'] = df_InvestingStockListMetadata.loc[stockIndex,\"Stock_FullName\"]\n",
    "        df_InvestingDateWiseStockNews.loc[row,'Stock_Code'] = df_InvestingStockListMetadata.loc[stockIndex,\"Stock_Code\"]\n",
    "        df_InvestingDateWiseStockNews.loc[row,'Stock_News'] = h3.text.strip()\n",
    "        for i in j.findAll('time'):\n",
    "                if i.has_attr('datetime'):\n",
    "                    df_InvestingDateWiseStockNews.loc[row,'Date'] = i.text\n",
    "        row = row + 1"
   ]
  },
  {
   "cell_type": "code",
   "execution_count": 750,
   "id": "1f3e2738",
   "metadata": {},
   "outputs": [],
   "source": [
    "df_InvestingDateWiseStockNews.to_csv(\"C:/Users/Rupali/ISB/Foundational Project 1/InvestingStockNewsdata.csv\", index = True)"
   ]
  },
  {
   "cell_type": "code",
   "execution_count": 816,
   "id": "0dcbfbd0",
   "metadata": {},
   "outputs": [
    {
     "data": {
      "text/html": [
       "<div>\n",
       "<style scoped>\n",
       "    .dataframe tbody tr th:only-of-type {\n",
       "        vertical-align: middle;\n",
       "    }\n",
       "\n",
       "    .dataframe tbody tr th {\n",
       "        vertical-align: top;\n",
       "    }\n",
       "\n",
       "    .dataframe thead th {\n",
       "        text-align: right;\n",
       "    }\n",
       "</style>\n",
       "<table border=\"1\" class=\"dataframe\">\n",
       "  <thead>\n",
       "    <tr style=\"text-align: right;\">\n",
       "      <th></th>\n",
       "      <th>Stock_FullName</th>\n",
       "      <th>Stock_Code</th>\n",
       "      <th>Stock_News</th>\n",
       "      <th>Date</th>\n",
       "    </tr>\n",
       "  </thead>\n",
       "  <tbody>\n",
       "    <tr>\n",
       "      <th>0</th>\n",
       "      <td>AXIS Bank</td>\n",
       "      <td>AXISBANK</td>\n",
       "      <td>Benchmark indices up post below estimate US in...</td>\n",
       "      <td>17 hours ago</td>\n",
       "    </tr>\n",
       "    <tr>\n",
       "      <th>1</th>\n",
       "      <td>AXIS Bank</td>\n",
       "      <td>AXISBANK</td>\n",
       "      <td>ICICI Bank is covered by 51 analysts on the St...</td>\n",
       "      <td>23 hours ago</td>\n",
       "    </tr>\n",
       "    <tr>\n",
       "      <th>2</th>\n",
       "      <td>AXIS Bank</td>\n",
       "      <td>AXISBANK</td>\n",
       "      <td>Benchmark indices fall marginally after rising...</td>\n",
       "      <td>Aug 04, 2022 13:45</td>\n",
       "    </tr>\n",
       "    <tr>\n",
       "      <th>3</th>\n",
       "      <td>AXIS Bank</td>\n",
       "      <td>AXISBANK</td>\n",
       "      <td>Stocks in View: ITC, Zomato, Adani Group, Volt...</td>\n",
       "      <td>Aug 03, 2022 04:40</td>\n",
       "    </tr>\n",
       "    <tr>\n",
       "      <th>4</th>\n",
       "      <td>AXIS Bank</td>\n",
       "      <td>AXISBANK</td>\n",
       "      <td>Stocks Under Focus on Jul 25: Vodafone Idea, G...</td>\n",
       "      <td>Jul 25, 2022 04:01</td>\n",
       "    </tr>\n",
       "    <tr>\n",
       "      <th>...</th>\n",
       "      <td>...</td>\n",
       "      <td>...</td>\n",
       "      <td>...</td>\n",
       "      <td>...</td>\n",
       "    </tr>\n",
       "    <tr>\n",
       "      <th>2061</th>\n",
       "      <td>Wipro</td>\n",
       "      <td>WIPRO</td>\n",
       "      <td>Pre-Open Cues: SGX Nifty Futures Signals Flat ...</td>\n",
       "      <td>NaN</td>\n",
       "    </tr>\n",
       "    <tr>\n",
       "      <th>2062</th>\n",
       "      <td>Wipro</td>\n",
       "      <td>WIPRO</td>\n",
       "      <td>Breaking: Dabur Chairman Amit Burman Quits; Me...</td>\n",
       "      <td>NaN</td>\n",
       "    </tr>\n",
       "    <tr>\n",
       "      <th>2063</th>\n",
       "      <td>Wipro</td>\n",
       "      <td>WIPRO</td>\n",
       "      <td>Stocks Under Focus: Adani Enterprises, LIC, ON...</td>\n",
       "      <td>NaN</td>\n",
       "    </tr>\n",
       "    <tr>\n",
       "      <th>2064</th>\n",
       "      <td>Wipro</td>\n",
       "      <td>WIPRO</td>\n",
       "      <td>Q1 Snippets of Key Stocks: Apollo Hospitals, B...</td>\n",
       "      <td>NaN</td>\n",
       "    </tr>\n",
       "    <tr>\n",
       "      <th>2065</th>\n",
       "      <td>Wipro</td>\n",
       "      <td>WIPRO</td>\n",
       "      <td>ICICI Bank’s M-Cap Hits Rs 6 Lakh Cr Mark; Top...</td>\n",
       "      <td>NaN</td>\n",
       "    </tr>\n",
       "  </tbody>\n",
       "</table>\n",
       "<p>2066 rows × 4 columns</p>\n",
       "</div>"
      ],
      "text/plain": [
       "     Stock_FullName Stock_Code  \\\n",
       "0         AXIS Bank   AXISBANK   \n",
       "1         AXIS Bank   AXISBANK   \n",
       "2         AXIS Bank   AXISBANK   \n",
       "3         AXIS Bank   AXISBANK   \n",
       "4         AXIS Bank   AXISBANK   \n",
       "...             ...        ...   \n",
       "2061          Wipro      WIPRO   \n",
       "2062          Wipro      WIPRO   \n",
       "2063          Wipro      WIPRO   \n",
       "2064          Wipro      WIPRO   \n",
       "2065          Wipro      WIPRO   \n",
       "\n",
       "                                             Stock_News                Date  \n",
       "0     Benchmark indices up post below estimate US in...        17 hours ago  \n",
       "1     ICICI Bank is covered by 51 analysts on the St...        23 hours ago  \n",
       "2     Benchmark indices fall marginally after rising...  Aug 04, 2022 13:45  \n",
       "3     Stocks in View: ITC, Zomato, Adani Group, Volt...  Aug 03, 2022 04:40  \n",
       "4     Stocks Under Focus on Jul 25: Vodafone Idea, G...  Jul 25, 2022 04:01  \n",
       "...                                                 ...                 ...  \n",
       "2061  Pre-Open Cues: SGX Nifty Futures Signals Flat ...                 NaN  \n",
       "2062  Breaking: Dabur Chairman Amit Burman Quits; Me...                 NaN  \n",
       "2063  Stocks Under Focus: Adani Enterprises, LIC, ON...                 NaN  \n",
       "2064  Q1 Snippets of Key Stocks: Apollo Hospitals, B...                 NaN  \n",
       "2065  ICICI Bank’s M-Cap Hits Rs 6 Lakh Cr Mark; Top...                 NaN  \n",
       "\n",
       "[2066 rows x 4 columns]"
      ]
     },
     "execution_count": 816,
     "metadata": {},
     "output_type": "execute_result"
    }
   ],
   "source": [
    "df_InvestingDateWiseStockNews"
   ]
  },
  {
   "cell_type": "code",
   "execution_count": 752,
   "id": "d47a5c62",
   "metadata": {},
   "outputs": [],
   "source": [
    "#Doing sentiment Analysis\n",
    "analyzer = SentimentIntensityAnalyzer()"
   ]
  },
  {
   "cell_type": "code",
   "execution_count": 753,
   "id": "74d29d84",
   "metadata": {},
   "outputs": [],
   "source": [
    "from nltk.corpus import stopwords\n",
    "from nltk.tokenize import word_tokenize, sent_tokenize"
   ]
  },
  {
   "cell_type": "code",
   "execution_count": 799,
   "id": "95d602a4",
   "metadata": {},
   "outputs": [],
   "source": [
    "#Function for generating the polarity of a single document \n",
    "\n",
    "def vader_sent_func(doc):\n",
    "    sent_list = doc\n",
    "    vader_doc = []\n",
    "    vs_sent = analyzer.polarity_scores(sent_list)\n",
    "    vader_doc.append(vs_sent)\n",
    "\n",
    "    # Get the output as a DataFrame    \n",
    "    doc_df = pd.DataFrame(vader_doc)\n",
    "    return(doc_df)"
   ]
  },
  {
   "cell_type": "code",
   "execution_count": 800,
   "id": "67714f2d",
   "metadata": {},
   "outputs": [],
   "source": [
    "#Sentiment Analysis for the whole corpus\n",
    "\n",
    "def vader_corpus_func(doc):\n",
    "\n",
    "    # Initializing the dataframe to add the output of single document\n",
    "    vader_doc_df = pd.DataFrame(columns=['doc_index', 'neg', 'neu', 'pos', 'compound']) \n",
    "    \n",
    "    for i in range(len(doc)):\n",
    "        vader_doc = vader_sent_func(doc.loc[i])\n",
    "        vader_doc.insert(0,'doc_index', i)\n",
    "        vader_doc_df = pd.concat([vader_doc_df, vader_doc], axis=0)\n",
    "    return(vader_doc_df) \n",
    "\n",
    "Sentiment_Investing_News = vader_corpus_func(df_InvestingDateWiseStockNews['Stock_News'])"
   ]
  },
  {
   "cell_type": "code",
   "execution_count": 801,
   "id": "ace34de6",
   "metadata": {},
   "outputs": [],
   "source": [
    "SentimentScore_Investing_News = df_InvestingDateWiseStockNews[['Stock_Code','Date']].copy()\n",
    "SentimentScore_Investing_News['Sentiment Score'] = Sentiment_Investing_News['compound'].to_numpy()"
   ]
  },
  {
   "cell_type": "code",
   "execution_count": 802,
   "id": "de84157c",
   "metadata": {},
   "outputs": [
    {
     "data": {
      "text/html": [
       "<div>\n",
       "<style scoped>\n",
       "    .dataframe tbody tr th:only-of-type {\n",
       "        vertical-align: middle;\n",
       "    }\n",
       "\n",
       "    .dataframe tbody tr th {\n",
       "        vertical-align: top;\n",
       "    }\n",
       "\n",
       "    .dataframe thead th {\n",
       "        text-align: right;\n",
       "    }\n",
       "</style>\n",
       "<table border=\"1\" class=\"dataframe\">\n",
       "  <thead>\n",
       "    <tr style=\"text-align: right;\">\n",
       "      <th></th>\n",
       "      <th>Stock_Code</th>\n",
       "      <th>Date</th>\n",
       "      <th>Sentiment Score</th>\n",
       "    </tr>\n",
       "  </thead>\n",
       "  <tbody>\n",
       "    <tr>\n",
       "      <th>0</th>\n",
       "      <td>AXISBANK</td>\n",
       "      <td>47 minutes ago</td>\n",
       "      <td>0.5106</td>\n",
       "    </tr>\n",
       "    <tr>\n",
       "      <th>1</th>\n",
       "      <td>AXISBANK</td>\n",
       "      <td>Aug 04, 2022 13:45</td>\n",
       "      <td>0.2263</td>\n",
       "    </tr>\n",
       "    <tr>\n",
       "      <th>2</th>\n",
       "      <td>AXISBANK</td>\n",
       "      <td>Aug 03, 2022 04:40</td>\n",
       "      <td>0.0000</td>\n",
       "    </tr>\n",
       "    <tr>\n",
       "      <th>3</th>\n",
       "      <td>AXISBANK</td>\n",
       "      <td>Jul 25, 2022 04:01</td>\n",
       "      <td>0.0000</td>\n",
       "    </tr>\n",
       "    <tr>\n",
       "      <th>4</th>\n",
       "      <td>AXISBANK</td>\n",
       "      <td>Jul 24, 2022 10:44</td>\n",
       "      <td>0.0000</td>\n",
       "    </tr>\n",
       "    <tr>\n",
       "      <th>...</th>\n",
       "      <td>...</td>\n",
       "      <td>...</td>\n",
       "      <td>...</td>\n",
       "    </tr>\n",
       "    <tr>\n",
       "      <th>2102</th>\n",
       "      <td>WIPRO</td>\n",
       "      <td>Jul 20, 2022 21:50</td>\n",
       "      <td>0.0000</td>\n",
       "    </tr>\n",
       "    <tr>\n",
       "      <th>2103</th>\n",
       "      <td>WIPRO</td>\n",
       "      <td>Jul 20, 2022 21:18</td>\n",
       "      <td>0.0000</td>\n",
       "    </tr>\n",
       "    <tr>\n",
       "      <th>2104</th>\n",
       "      <td>WIPRO</td>\n",
       "      <td>Jul 20, 2022 20:37</td>\n",
       "      <td>0.4019</td>\n",
       "    </tr>\n",
       "    <tr>\n",
       "      <th>2105</th>\n",
       "      <td>WIPRO</td>\n",
       "      <td>Jul 20, 2022 20:37</td>\n",
       "      <td>0.4404</td>\n",
       "    </tr>\n",
       "    <tr>\n",
       "      <th>2106</th>\n",
       "      <td>WIPRO</td>\n",
       "      <td>Jul 20, 2022 20:35</td>\n",
       "      <td>-0.2263</td>\n",
       "    </tr>\n",
       "  </tbody>\n",
       "</table>\n",
       "<p>1862 rows × 3 columns</p>\n",
       "</div>"
      ],
      "text/plain": [
       "     Stock_Code                Date  Sentiment Score\n",
       "0      AXISBANK      47 minutes ago           0.5106\n",
       "1      AXISBANK  Aug 04, 2022 13:45           0.2263\n",
       "2      AXISBANK  Aug 03, 2022 04:40           0.0000\n",
       "3      AXISBANK  Jul 25, 2022 04:01           0.0000\n",
       "4      AXISBANK  Jul 24, 2022 10:44           0.0000\n",
       "...         ...                 ...              ...\n",
       "2102      WIPRO  Jul 20, 2022 21:50           0.0000\n",
       "2103      WIPRO  Jul 20, 2022 21:18           0.0000\n",
       "2104      WIPRO  Jul 20, 2022 20:37           0.4019\n",
       "2105      WIPRO  Jul 20, 2022 20:37           0.4404\n",
       "2106      WIPRO  Jul 20, 2022 20:35          -0.2263\n",
       "\n",
       "[1862 rows x 3 columns]"
      ]
     },
     "execution_count": 802,
     "metadata": {},
     "output_type": "execute_result"
    }
   ],
   "source": [
    "SentimentScore_Investing_News.dropna(axis=0,how = 'any',inplace=True)\n",
    "SentimentScore_Investing_News"
   ]
  },
  {
   "cell_type": "code",
   "execution_count": 803,
   "id": "c5684f55",
   "metadata": {
    "scrolled": true
   },
   "outputs": [
    {
     "name": "stderr",
     "output_type": "stream",
     "text": [
      "C:\\Users\\Rupali\\AppData\\Local\\Temp/ipykernel_85296/4027556182.py:3: SettingWithCopyWarning: \n",
      "A value is trying to be set on a copy of a slice from a DataFrame\n",
      "\n",
      "See the caveats in the documentation: https://pandas.pydata.org/pandas-docs/stable/user_guide/indexing.html#returning-a-view-versus-a-copy\n",
      "  SentimentScore_Investing_News['Date'][ind] =  date.today()\n"
     ]
    }
   ],
   "source": [
    "for ind in SentimentScore_Investing_News.index:\n",
    "    if(((SentimentScore_Investing_News['Date'][ind]).find('hours ago') != -1) or ((SentimentScore_Investing_News['Date'][ind]).find('minutes ago') != -1)):\n",
    "        SentimentScore_Investing_News['Date'][ind] =  date.today()\n",
    "SentimentScore_Investing_News['Date'] = pd.to_datetime(SentimentScore_Investing_News['Date']).dt.date"
   ]
  },
  {
   "cell_type": "code",
   "execution_count": 804,
   "id": "63062edc",
   "metadata": {},
   "outputs": [],
   "source": [
    "SentimentScore_Investing_News.to_csv(\"C:/Users/Rupali/ISB/Foundational Project 1/Sentiment_Investing_News.csv\", index = True)"
   ]
  },
  {
   "cell_type": "code",
   "execution_count": 794,
   "id": "29ebae4a",
   "metadata": {},
   "outputs": [],
   "source": [
    "SentimentAvg_Investing_News = SentimentScore_Investing_News.groupby(['Stock_Code','Date']).agg({'Sentiment Score':['mean']})\n",
    "SentimentAvg_Investing_News.columns = ['Mean_Sentiment_Score']\n",
    "SentimentAvg_Investing_News = SentimentAvg_Investing_News.reset_index()"
   ]
  },
  {
   "cell_type": "code",
   "execution_count": 795,
   "id": "f68affc3",
   "metadata": {},
   "outputs": [],
   "source": [
    "SentimentAvg_Investing_News.to_csv(\"C:/Users/Rupali/ISB/Foundational Project 1/SentimentAvg_Investing_News.csv\", index = True)"
   ]
  },
  {
   "cell_type": "code",
   "execution_count": 796,
   "id": "1b278a5c",
   "metadata": {},
   "outputs": [
    {
     "data": {
      "text/html": [
       "<div>\n",
       "<style scoped>\n",
       "    .dataframe tbody tr th:only-of-type {\n",
       "        vertical-align: middle;\n",
       "    }\n",
       "\n",
       "    .dataframe tbody tr th {\n",
       "        vertical-align: top;\n",
       "    }\n",
       "\n",
       "    .dataframe thead th {\n",
       "        text-align: right;\n",
       "    }\n",
       "</style>\n",
       "<table border=\"1\" class=\"dataframe\">\n",
       "  <thead>\n",
       "    <tr style=\"text-align: right;\">\n",
       "      <th></th>\n",
       "      <th>Stock_Code</th>\n",
       "      <th>Date</th>\n",
       "      <th>Mean_Sentiment_Score</th>\n",
       "    </tr>\n",
       "  </thead>\n",
       "  <tbody>\n",
       "    <tr>\n",
       "      <th>0</th>\n",
       "      <td>ADANIPORTS</td>\n",
       "      <td>2022-08-03</td>\n",
       "      <td>0.104909</td>\n",
       "    </tr>\n",
       "    <tr>\n",
       "      <th>1</th>\n",
       "      <td>ADANIPORTS</td>\n",
       "      <td>2022-08-04</td>\n",
       "      <td>0.244169</td>\n",
       "    </tr>\n",
       "    <tr>\n",
       "      <th>2</th>\n",
       "      <td>ADANIPORTS</td>\n",
       "      <td>2022-08-05</td>\n",
       "      <td>0.133967</td>\n",
       "    </tr>\n",
       "    <tr>\n",
       "      <th>3</th>\n",
       "      <td>ADANIPORTS</td>\n",
       "      <td>2022-08-06</td>\n",
       "      <td>0.000000</td>\n",
       "    </tr>\n",
       "    <tr>\n",
       "      <th>4</th>\n",
       "      <td>ADANIPORTS</td>\n",
       "      <td>2022-08-08</td>\n",
       "      <td>0.000000</td>\n",
       "    </tr>\n",
       "    <tr>\n",
       "      <th>...</th>\n",
       "      <td>...</td>\n",
       "      <td>...</td>\n",
       "      <td>...</td>\n",
       "    </tr>\n",
       "    <tr>\n",
       "      <th>1138</th>\n",
       "      <td>WIPRO</td>\n",
       "      <td>2022-08-02</td>\n",
       "      <td>0.458800</td>\n",
       "    </tr>\n",
       "    <tr>\n",
       "      <th>1139</th>\n",
       "      <td>WIPRO</td>\n",
       "      <td>2022-08-03</td>\n",
       "      <td>0.000000</td>\n",
       "    </tr>\n",
       "    <tr>\n",
       "      <th>1140</th>\n",
       "      <td>WIPRO</td>\n",
       "      <td>2022-08-04</td>\n",
       "      <td>0.075433</td>\n",
       "    </tr>\n",
       "    <tr>\n",
       "      <th>1141</th>\n",
       "      <td>WIPRO</td>\n",
       "      <td>2022-08-05</td>\n",
       "      <td>0.000000</td>\n",
       "    </tr>\n",
       "    <tr>\n",
       "      <th>1142</th>\n",
       "      <td>WIPRO</td>\n",
       "      <td>2022-08-11</td>\n",
       "      <td>0.418267</td>\n",
       "    </tr>\n",
       "  </tbody>\n",
       "</table>\n",
       "<p>1143 rows × 3 columns</p>\n",
       "</div>"
      ],
      "text/plain": [
       "      Stock_Code        Date  Mean_Sentiment_Score\n",
       "0     ADANIPORTS  2022-08-03              0.104909\n",
       "1     ADANIPORTS  2022-08-04              0.244169\n",
       "2     ADANIPORTS  2022-08-05              0.133967\n",
       "3     ADANIPORTS  2022-08-06              0.000000\n",
       "4     ADANIPORTS  2022-08-08              0.000000\n",
       "...          ...         ...                   ...\n",
       "1138       WIPRO  2022-08-02              0.458800\n",
       "1139       WIPRO  2022-08-03              0.000000\n",
       "1140       WIPRO  2022-08-04              0.075433\n",
       "1141       WIPRO  2022-08-05              0.000000\n",
       "1142       WIPRO  2022-08-11              0.418267\n",
       "\n",
       "[1143 rows x 3 columns]"
      ]
     },
     "execution_count": 796,
     "metadata": {},
     "output_type": "execute_result"
    }
   ],
   "source": [
    "SentimentAvg_Investing_News"
   ]
  },
  {
   "cell_type": "code",
   "execution_count": 737,
   "id": "b76b937a",
   "metadata": {},
   "outputs": [],
   "source": [
    "stockIndex = 0\n",
    "# Prediction Mode\n",
    "# Create a dataframe with columns to capture the Stock News for previous day\n",
    "df_InvestingPredStock = pd.DataFrame({\"Stock_FullName\": [], \"Stock_Code\": [], \"Stock_News\" : [],\"Date\" : []})\n",
    "\n",
    "def PredMode(stock_code,date):\n",
    "    for ind in df_InvestingStockListMetadata.index:\n",
    "         if(df_InvestingStockListMetadata.loc[ind,'Stock_Code'] == stock_code): \n",
    "                    stockIndex = ind\n",
    "                    break\n",
    "                    \n",
    "    stocknews_url = df_InvestingStockListMetadata.loc[stockIndex,\"InvestingStockNews\"]\n",
    "\n",
    "    page = httpRequest.get(stocknews_url,headers=header)\n",
    "    soup = BeautifulSoup(page.text, 'html.parser')\n",
    "    \n",
    "    row = 0\n",
    "    for j in soup.select('div.content'):\n",
    "        h3 = j.find('h3')     \n",
    "\n",
    "        for i in j.findAll('time'):\n",
    "                if i.has_attr('datetime'):\n",
    "                    news_date = i.text\n",
    "                    news_date = news_date[0:12]\n",
    "                    if(news_date == date):\n",
    "                        df_InvestingPredStock.loc[row,'Stock_FullName'] = df_InvestingStockListMetadata.loc[stockIndex,\"Stock_FullName\"]\n",
    "                        df_InvestingPredStock.loc[row,'Stock_Code'] = df_InvestingStockListMetadata.loc[stockIndex,\"Stock_Code\"]\n",
    "                        df_InvestingPredStock.loc[row,'Date'] = news_date\n",
    "                        df_InvestingPredStock.loc[row,'Stock_News'] = h3.text.strip()\n",
    "        row = row + 1\n",
    "    return(df_InvestingPredStock)"
   ]
  },
  {
   "cell_type": "code",
   "execution_count": 738,
   "id": "3a9090fa",
   "metadata": {},
   "outputs": [
    {
     "data": {
      "text/html": [
       "<div>\n",
       "<style scoped>\n",
       "    .dataframe tbody tr th:only-of-type {\n",
       "        vertical-align: middle;\n",
       "    }\n",
       "\n",
       "    .dataframe tbody tr th {\n",
       "        vertical-align: top;\n",
       "    }\n",
       "\n",
       "    .dataframe thead th {\n",
       "        text-align: right;\n",
       "    }\n",
       "</style>\n",
       "<table border=\"1\" class=\"dataframe\">\n",
       "  <thead>\n",
       "    <tr style=\"text-align: right;\">\n",
       "      <th></th>\n",
       "      <th>Stock_FullName</th>\n",
       "      <th>Stock_Code</th>\n",
       "      <th>Stock_News</th>\n",
       "      <th>Date</th>\n",
       "    </tr>\n",
       "  </thead>\n",
       "  <tbody>\n",
       "    <tr>\n",
       "      <th>0</th>\n",
       "      <td>Adani Ports &amp; SEZ</td>\n",
       "      <td>ADANIPORTS</td>\n",
       "      <td>Adani Ports &amp; SEZ earnings miss, Revenue beats...</td>\n",
       "      <td>Aug 09, 2022</td>\n",
       "    </tr>\n",
       "  </tbody>\n",
       "</table>\n",
       "</div>"
      ],
      "text/plain": [
       "      Stock_FullName  Stock_Code  \\\n",
       "0  Adani Ports & SEZ  ADANIPORTS   \n",
       "\n",
       "                                          Stock_News          Date  \n",
       "0  Adani Ports & SEZ earnings miss, Revenue beats...  Aug 09, 2022  "
      ]
     },
     "execution_count": 738,
     "metadata": {},
     "output_type": "execute_result"
    }
   ],
   "source": [
    "df_PredStock = PredMode('ADANIPORTS',\"Aug 09, 2022\")\n",
    "df_PredStock"
   ]
  },
  {
   "cell_type": "code",
   "execution_count": 740,
   "id": "86420dc1",
   "metadata": {},
   "outputs": [
    {
     "data": {
      "text/html": [
       "<div>\n",
       "<style scoped>\n",
       "    .dataframe tbody tr th:only-of-type {\n",
       "        vertical-align: middle;\n",
       "    }\n",
       "\n",
       "    .dataframe tbody tr th {\n",
       "        vertical-align: top;\n",
       "    }\n",
       "\n",
       "    .dataframe thead th {\n",
       "        text-align: right;\n",
       "    }\n",
       "</style>\n",
       "<table border=\"1\" class=\"dataframe\">\n",
       "  <thead>\n",
       "    <tr style=\"text-align: right;\">\n",
       "      <th></th>\n",
       "      <th>Stock_Code</th>\n",
       "      <th>Date</th>\n",
       "      <th>Mean_Sentiment_Score</th>\n",
       "    </tr>\n",
       "  </thead>\n",
       "  <tbody>\n",
       "    <tr>\n",
       "      <th>0</th>\n",
       "      <td>ADANIPORTS</td>\n",
       "      <td>Aug 09, 2022</td>\n",
       "      <td>0.0</td>\n",
       "    </tr>\n",
       "  </tbody>\n",
       "</table>\n",
       "</div>"
      ],
      "text/plain": [
       "   Stock_Code          Date  Mean_Sentiment_Score\n",
       "0  ADANIPORTS  Aug 09, 2022                   0.0"
      ]
     },
     "execution_count": 740,
     "metadata": {},
     "output_type": "execute_result"
    }
   ],
   "source": [
    "SentimentScore = vader_sent_func(df_PredStock)\n",
    "PredStock_Sentiment = df_PredStock[['Stock_Code','Date']].copy()\n",
    "PredStock_Sentiment['Mean_Sentiment_Score'] = SentimentScore['compound']\n",
    "PredStock_Sentiment"
   ]
  },
  {
   "cell_type": "code",
   "execution_count": null,
   "id": "f7b3f1b2",
   "metadata": {},
   "outputs": [],
   "source": []
  }
 ],
 "metadata": {
  "kernelspec": {
   "display_name": "Python 3 (ipykernel)",
   "language": "python",
   "name": "python3"
  },
  "language_info": {
   "codemirror_mode": {
    "name": "ipython",
    "version": 3
   },
   "file_extension": ".py",
   "mimetype": "text/x-python",
   "name": "python",
   "nbconvert_exporter": "python",
   "pygments_lexer": "ipython3",
   "version": "3.9.7"
  }
 },
 "nbformat": 4,
 "nbformat_minor": 5
}

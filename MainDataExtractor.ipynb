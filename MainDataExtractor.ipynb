{
 "cells": [
  {
   "cell_type": "code",
   "execution_count": 1,
   "id": "3f71aece",
   "metadata": {
    "scrolled": true
   },
   "outputs": [
    {
     "name": "stdout",
     "output_type": "stream",
     "text": [
      "2022-08-13 15:32:39,445 loading file C:\\Users\\amshuk\\.flair\\models\\sentiment-en-mix-distillbert_4.pt\n"
     ]
    }
   ],
   "source": [
    "import StockPriceHandler as sp\n",
    "import StockNewsScrapper as sn\n",
    "import numpy as np\n",
    "import pandas as pd\n",
    "from datetime import date\n",
    "from datetime import datetime"
   ]
  },
  {
   "cell_type": "code",
   "execution_count": 2,
   "id": "84a01076",
   "metadata": {},
   "outputs": [
    {
     "name": "stderr",
     "output_type": "stream",
     "text": [
      "C:\\Personal\\Google Drive\\Next Level\\ISB\\Term 2\\FP1\\FP1-SVP\\StockNewsScrapper.py:103: SettingWithCopyWarning: \n",
      "A value is trying to be set on a copy of a slice from a DataFrame\n",
      "\n",
      "See the caveats in the documentation: https://pandas.pydata.org/pandas-docs/stable/user_guide/indexing.html#returning-a-view-versus-a-copy\n",
      "  dataFrameToAnalyze[\"Sentiment_Score\"][eachItemIndex] = scoreValueFromMinus1ToPlus1\n"
     ]
    }
   ],
   "source": [
    "# Get Ticker Tape News Scores\n",
    "df_TtNewsScores = sn.GetTickerTapeNewsSentiment('Training')"
   ]
  },
  {
   "cell_type": "code",
   "execution_count": 3,
   "id": "55e334c0",
   "metadata": {},
   "outputs": [],
   "source": [
    "# Get Investing.com News Scores\n",
    "df_InvNeScores = pd.read_csv(\"SentimentAvg_Investing_News.csv\")\n",
    "df_InvNeScores['Date'] = pd.to_datetime(df_InvNeScores['Date'])"
   ]
  },
  {
   "cell_type": "code",
   "execution_count": 4,
   "id": "b251e98f",
   "metadata": {},
   "outputs": [],
   "source": [
    "# Merge News Scores from TickerTape & Investing.com Dataset\n",
    "df_ConsNewsScore = pd.merge(left = df_TtNewsScores, right = df_InvNeScores, how = 'outer', on = ['Stock_Code', 'Date'])\n",
    "# Take average of News Scores to have one single News Sentiment Score\n",
    "conditions = [df_ConsNewsScore.Sentiment_Score_mean.notnull() & df_ConsNewsScore.Mean_Sentiment_Score.notnull(), df_ConsNewsScore.Sentiment_Score_mean.isnull(), df_ConsNewsScore.Mean_Sentiment_Score.isnull()]\n",
    "choices = [(df_ConsNewsScore.Mean_Sentiment_Score + df_ConsNewsScore.Sentiment_Score_mean)/2, df_ConsNewsScore.Mean_Sentiment_Score, df_ConsNewsScore.Sentiment_Score_mean]\n",
    "df_ConsNewsScore['News_Score'] = np.select(conditions, choices)\n",
    "# Drop Individual News Scores\n",
    "df_ConsNewsScore = df_ConsNewsScore.drop(['Mean_Sentiment_Score', 'Sentiment_Score_mean'], axis=1)"
   ]
  },
  {
   "cell_type": "code",
   "execution_count": 5,
   "id": "db049f88",
   "metadata": {},
   "outputs": [],
   "source": [
    "# Get Twitter Sentiment Scores\n",
    "df_TwitSent = pd.read_csv(\"TwitterSentimentsAlldates.csv\")\n",
    "df_TwitSent['Date'] = pd.to_datetime(df_TwitSent['Date'])\n",
    "df_TwitSent = df_TwitSent.groupby(['stock_code', 'Date']).agg({'Sentiment_Score': ['mean']})\n",
    "df_TwitSent = df_TwitSent.reset_index()\n",
    "df_TwitSent.columns = df_TwitSent.columns.to_flat_index().str.join('_')\n",
    "df_TwitSent.rename(columns = {'stock_code_' : 'Stock_Code' , 'Date_': 'Date'}, inplace = True)"
   ]
  },
  {
   "cell_type": "code",
   "execution_count": 6,
   "id": "deaadc87",
   "metadata": {},
   "outputs": [],
   "source": [
    "# Merge Twitter Sentiment Scores with News Score\n",
    "df_NewsNTwitScore = pd.merge(left = df_TwitSent, right = df_ConsNewsScore, how = 'outer',left_on=['Stock_Code', 'Date'], right_on = ['Stock_Code', 'Date'])"
   ]
  },
  {
   "cell_type": "code",
   "execution_count": 7,
   "id": "15bfea5f",
   "metadata": {},
   "outputs": [
    {
     "data": {
      "text/html": [
       "<div>\n",
       "<style scoped>\n",
       "    .dataframe tbody tr th:only-of-type {\n",
       "        vertical-align: middle;\n",
       "    }\n",
       "\n",
       "    .dataframe tbody tr th {\n",
       "        vertical-align: top;\n",
       "    }\n",
       "\n",
       "    .dataframe thead th {\n",
       "        text-align: right;\n",
       "    }\n",
       "</style>\n",
       "<table border=\"1\" class=\"dataframe\">\n",
       "  <thead>\n",
       "    <tr style=\"text-align: right;\">\n",
       "      <th></th>\n",
       "      <th>index</th>\n",
       "      <th>Stock_Code</th>\n",
       "      <th>Date</th>\n",
       "      <th>Sentiment_Score_mean</th>\n",
       "      <th>News_Score</th>\n",
       "    </tr>\n",
       "  </thead>\n",
       "  <tbody>\n",
       "    <tr>\n",
       "      <th>0</th>\n",
       "      <td>0</td>\n",
       "      <td>ADANIPORTS</td>\n",
       "      <td>2022-07-26</td>\n",
       "      <td>0.080000</td>\n",
       "      <td>-0.564883</td>\n",
       "    </tr>\n",
       "    <tr>\n",
       "      <th>1</th>\n",
       "      <td>1</td>\n",
       "      <td>ADANIPORTS</td>\n",
       "      <td>2022-07-27</td>\n",
       "      <td>0.081382</td>\n",
       "      <td>NaN</td>\n",
       "    </tr>\n",
       "    <tr>\n",
       "      <th>2</th>\n",
       "      <td>2</td>\n",
       "      <td>ADANIPORTS</td>\n",
       "      <td>2022-07-28</td>\n",
       "      <td>0.036365</td>\n",
       "      <td>NaN</td>\n",
       "    </tr>\n",
       "    <tr>\n",
       "      <th>3</th>\n",
       "      <td>3</td>\n",
       "      <td>ADANIPORTS</td>\n",
       "      <td>2022-07-29</td>\n",
       "      <td>0.026564</td>\n",
       "      <td>NaN</td>\n",
       "    </tr>\n",
       "    <tr>\n",
       "      <th>4</th>\n",
       "      <td>4</td>\n",
       "      <td>ADANIPORTS</td>\n",
       "      <td>2022-07-30</td>\n",
       "      <td>0.029235</td>\n",
       "      <td>NaN</td>\n",
       "    </tr>\n",
       "    <tr>\n",
       "      <th>...</th>\n",
       "      <td>...</td>\n",
       "      <td>...</td>\n",
       "      <td>...</td>\n",
       "      <td>...</td>\n",
       "      <td>...</td>\n",
       "    </tr>\n",
       "    <tr>\n",
       "      <th>853</th>\n",
       "      <td>1013</td>\n",
       "      <td>WIPRO</td>\n",
       "      <td>2022-08-12</td>\n",
       "      <td>NaN</td>\n",
       "      <td>0.004709</td>\n",
       "    </tr>\n",
       "    <tr>\n",
       "      <th>854</th>\n",
       "      <td>1120</td>\n",
       "      <td>BAJAJFINSV</td>\n",
       "      <td>2022-07-26</td>\n",
       "      <td>NaN</td>\n",
       "      <td>0.370767</td>\n",
       "    </tr>\n",
       "    <tr>\n",
       "      <th>855</th>\n",
       "      <td>1197</td>\n",
       "      <td>CIPLA</td>\n",
       "      <td>2022-07-26</td>\n",
       "      <td>NaN</td>\n",
       "      <td>0.000000</td>\n",
       "    </tr>\n",
       "    <tr>\n",
       "      <th>856</th>\n",
       "      <td>1351</td>\n",
       "      <td>HDFCBANK</td>\n",
       "      <td>2022-07-26</td>\n",
       "      <td>NaN</td>\n",
       "      <td>0.350667</td>\n",
       "    </tr>\n",
       "    <tr>\n",
       "      <th>857</th>\n",
       "      <td>1457</td>\n",
       "      <td>ICICIBANK</td>\n",
       "      <td>2022-07-26</td>\n",
       "      <td>NaN</td>\n",
       "      <td>0.000000</td>\n",
       "    </tr>\n",
       "  </tbody>\n",
       "</table>\n",
       "<p>858 rows × 5 columns</p>\n",
       "</div>"
      ],
      "text/plain": [
       "     index  Stock_Code       Date  Sentiment_Score_mean  News_Score\n",
       "0        0  ADANIPORTS 2022-07-26              0.080000   -0.564883\n",
       "1        1  ADANIPORTS 2022-07-27              0.081382         NaN\n",
       "2        2  ADANIPORTS 2022-07-28              0.036365         NaN\n",
       "3        3  ADANIPORTS 2022-07-29              0.026564         NaN\n",
       "4        4  ADANIPORTS 2022-07-30              0.029235         NaN\n",
       "..     ...         ...        ...                   ...         ...\n",
       "853   1013       WIPRO 2022-08-12                   NaN    0.004709\n",
       "854   1120  BAJAJFINSV 2022-07-26                   NaN    0.370767\n",
       "855   1197       CIPLA 2022-07-26                   NaN    0.000000\n",
       "856   1351    HDFCBANK 2022-07-26                   NaN    0.350667\n",
       "857   1457   ICICIBANK 2022-07-26                   NaN    0.000000\n",
       "\n",
       "[858 rows x 5 columns]"
      ]
     },
     "execution_count": 7,
     "metadata": {},
     "output_type": "execute_result"
    }
   ],
   "source": [
    "list_outdatedRows = df_NewsNTwitScore[df_NewsNTwitScore['Date'] < '2022-7-26'].index\n",
    "df_NewsNTwitScore.drop(list_outdatedRows, inplace = True)\n",
    "df_NewsNTwitScore.reset_index()"
   ]
  },
  {
   "cell_type": "code",
   "execution_count": 8,
   "id": "f46ff026",
   "metadata": {},
   "outputs": [],
   "source": [
    "df_NewsNTwitScore['Sentiment_Score_mean'] = df_NewsNTwitScore['Sentiment_Score_mean'].fillna(0)\n",
    "df_NewsNTwitScore['News_Score'] = df_NewsNTwitScore['News_Score'].fillna(0)"
   ]
  },
  {
   "cell_type": "code",
   "execution_count": 9,
   "id": "bef39a23",
   "metadata": {},
   "outputs": [],
   "source": [
    "# Get Stock Price Data\n",
    "df_StkPr = sp.GetStockPriceMetrics('Training', date(2022,7,27), date(2022,8,10), '')\n",
    "df_StkPr['Date'] = pd.to_datetime(df_StkPr['Date'])"
   ]
  },
  {
   "cell_type": "code",
   "execution_count": 10,
   "id": "4f25bd92",
   "metadata": {},
   "outputs": [],
   "source": [
    "# Set the Outcome variable based on the value of the Price Movement\n",
    "# To have a fairly balanced data for all 3 types of outcomes, threshold is set as -0.25% and +0.25%\n",
    "conditions = [df_StkPr.Prediction < 0.00000001, df_StkPr.Prediction > 0.00000001]\n",
    "choices = [-1, 1]\n",
    "df_StkPr['Outcome'] = np.select(conditions, choices)\n",
    "# Drop the ununsed columns\n",
    "df_StkPr = df_StkPr.drop(['Open','Close','MA5', 'Prediction'], axis = 1)"
   ]
  },
  {
   "cell_type": "code",
   "execution_count": 11,
   "id": "af26bde7",
   "metadata": {},
   "outputs": [],
   "source": [
    "# Merge Stock Price with Twitter and News Scores\n",
    "df_TrainingSet = pd.merge(left = df_StkPr, right = df_NewsNTwitScore, how = 'inner',left_on=['Stock_Code', 'Date'], right_on = ['Stock_Code', 'Date'])"
   ]
  },
  {
   "cell_type": "code",
   "execution_count": 12,
   "id": "1f606f10",
   "metadata": {},
   "outputs": [],
   "source": [
    "df_TrainingSet.to_csv(\"TrainingSet_Binary.csv\")"
   ]
  }
 ],
 "metadata": {
  "kernelspec": {
   "display_name": "Python 3 (ipykernel)",
   "language": "python",
   "name": "python3"
  },
  "language_info": {
   "codemirror_mode": {
    "name": "ipython",
    "version": 3
   },
   "file_extension": ".py",
   "mimetype": "text/x-python",
   "name": "python",
   "nbconvert_exporter": "python",
   "pygments_lexer": "ipython3",
   "version": "3.9.7"
  }
 },
 "nbformat": 4,
 "nbformat_minor": 5
}
